{
 "cells": [
  {
   "cell_type": "code",
   "execution_count": 54,
   "metadata": {},
   "outputs": [],
   "source": [
    "import imaplib\n",
    "import email\n",
    "from email.header import decode_header\n",
    "import os\n",
    "import datetime\n",
    "from dateutil import parser\n",
    "import pandas as pd"
   ]
  },
  {
   "cell_type": "code",
   "execution_count": 71,
   "metadata": {
    "scrolled": true
   },
   "outputs": [],
   "source": [
    "def get_email_data(username, passsword, a_date, verbose):\n",
    "    \n",
    "    \n",
    "    imap = imaplib.IMAP4_SSL(\"imap.gmail.com\")\n",
    "    imap.login(username, password)\n",
    "\n",
    "    status, messages = imap.select(\"INBOX\")\n",
    "\n",
    "    before_date_flag = 0\n",
    "\n",
    "    # total number of emails\n",
    "    messages = int(messages[0])\n",
    "\n",
    "    subject_list = []\n",
    "    category_list = []\n",
    "    date_list = []\n",
    "    sender_list = []\n",
    "    \n",
    "    \n",
    "    for i in range(messages,0,-1):\n",
    "\n",
    "        if before_date_flag == 1:\n",
    "            break\n",
    "        res, msg = imap.fetch(str(i), \"(RFC822)\")\n",
    "        for response in msg:\n",
    "            if isinstance(response, tuple):\n",
    "            \n",
    "                # parse a bytes email into a message object\n",
    "                msg = email.message_from_bytes(response[1])\n",
    "\n",
    "                date = parser.parse(msg['Date']).date()\n",
    "                subject = decode_header(msg[\"Subject\"])[0][0]\n",
    "\n",
    "                if date < a_date:\n",
    "                    before_date_flag = 1\n",
    "                    break\n",
    "\n",
    "\n",
    "                if isinstance(subject, bytes):\n",
    "                    # if it's a bytes, decode to str\n",
    "                    subject = subject.decode()\n",
    "\n",
    "                date = msg[\"Date\"][0:25]\n",
    "                from_ = msg.get(\"From\")\n",
    "\n",
    "                sender_list.append(from_)\n",
    "                subject_list.append(subject)\n",
    "                date_list.append(date)\n",
    "                if 'Thank you for applying'.lower() in subject.lower():\n",
    "                    category_list.append(1)\n",
    "                else:\n",
    "                    category_list.append(0)\n",
    "                    \n",
    "                if verbose:\n",
    "                    print(\"Subject:\", subject)\n",
    "                    print(\"Date:\", date)\n",
    "                    print(\"=\"*100)\n",
    "\n",
    "    # close the connection and logout\n",
    "    imap.close()\n",
    "    imap.logout()\n",
    "    \n",
    "    return {'Sender': sender_list,\n",
    "            'Subject': subject_list,\n",
    "            'Date': date_list,\n",
    "            'Category': category_list,\n",
    "           }"
   ]
  },
  {
   "cell_type": "code",
   "execution_count": 72,
   "metadata": {},
   "outputs": [],
   "source": [
    "def num_to_str(x):\n",
    "    if x == 1:\n",
    "        return 'Job'\n",
    "    else:\n",
    "        return 'Other'"
   ]
  },
  {
   "cell_type": "code",
   "execution_count": null,
   "metadata": {},
   "outputs": [],
   "source": [
    "if __name__ == '__main__':\n",
    "    mail_id = input('Enter mail id: ')\n",
    "    mail_pswd = input('Enter mail password: ')\n",
    "    app_date = input('Enter date of application (for the job): ')\n",
    "    \n",
    "    app_date = parser.parse(app_date).date()\n",
    "    \n",
    "    email_data = get_email_data(mail_id, mail_pswd, app_date, True)\n",
    "    \n",
    "    mail_df = pd.DataFrame.from_dict(email_data)\n",
    "    mail_df['Category'] = mail_df['Category'].apply(num_to_str)\n",
    "    \n",
    "    print(mail_df)"
   ]
  }
 ],
 "metadata": {
  "kernelspec": {
   "display_name": "Python 3",
   "language": "python",
   "name": "python3"
  },
  "language_info": {
   "codemirror_mode": {
    "name": "ipython",
    "version": 3
   },
   "file_extension": ".py",
   "mimetype": "text/x-python",
   "name": "python",
   "nbconvert_exporter": "python",
   "pygments_lexer": "ipython3",
   "version": "3.8.5"
  }
 },
 "nbformat": 4,
 "nbformat_minor": 4
}